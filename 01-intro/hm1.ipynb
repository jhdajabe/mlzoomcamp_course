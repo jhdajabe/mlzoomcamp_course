{
 "cells": [
  {
   "cell_type": "code",
   "execution_count": 29,
   "id": "c449002f-fc10-4a9a-ab4a-750e3e7e27dc",
   "metadata": {
    "tags": []
   },
   "outputs": [],
   "source": [
    "import pandas as pd\n",
    "import numpy as np"
   ]
  },
  {
   "cell_type": "markdown",
   "id": "251d8feb",
   "metadata": {},
   "source": [
    "#### These are my answers for the first assigment in the mlzoomcamp course. Dataset I worked with was downloaded from\n",
    "#### here: https://raw.githubusercontent.com/alexeygrigorev/datasets/master/laptops.csv"
   ]
  },
  {
   "cell_type": "markdown",
   "id": "80801199",
   "metadata": {},
   "source": [
    "### Q1: Pandas Version"
   ]
  },
  {
   "cell_type": "code",
   "execution_count": 2,
   "id": "6491c28a-a03c-4388-a876-1b3a7302739a",
   "metadata": {
    "tags": []
   },
   "outputs": [
    {
     "name": "stdout",
     "output_type": "stream",
     "text": [
      "2.2.2\n"
     ]
    }
   ],
   "source": [
    "print(pd.__version__)"
   ]
  },
  {
   "cell_type": "markdown",
   "id": "6c36fa25",
   "metadata": {},
   "source": [
    "### Getting the data"
   ]
  },
  {
   "cell_type": "code",
   "execution_count": 4,
   "id": "578bd538",
   "metadata": {},
   "outputs": [],
   "source": [
    "laptop_df = pd.read_csv('laptops.csv')"
   ]
  },
  {
   "cell_type": "markdown",
   "id": "e6743a4b",
   "metadata": {},
   "source": [
    "### Q2: Records count"
   ]
  },
  {
   "cell_type": "code",
   "execution_count": 5,
   "id": "7504faf7",
   "metadata": {},
   "outputs": [
    {
     "data": {
      "text/plain": [
       "(2160, 12)"
      ]
     },
     "execution_count": 5,
     "metadata": {},
     "output_type": "execute_result"
    }
   ],
   "source": [
    "laptop_df.shape"
   ]
  },
  {
   "cell_type": "markdown",
   "id": "44b2f48c",
   "metadata": {},
   "source": [
    "### Q3: Laptop brands"
   ]
  },
  {
   "cell_type": "code",
   "execution_count": 6,
   "id": "e43f4159",
   "metadata": {},
   "outputs": [
    {
     "data": {
      "text/plain": [
       "Index(['Laptop', 'Status', 'Brand', 'Model', 'CPU', 'RAM', 'Storage',\n",
       "       'Storage type', 'GPU', 'Screen', 'Touch', 'Final Price'],\n",
       "      dtype='object')"
      ]
     },
     "execution_count": 6,
     "metadata": {},
     "output_type": "execute_result"
    }
   ],
   "source": [
    "laptop_df.columns"
   ]
  },
  {
   "cell_type": "code",
   "execution_count": 9,
   "id": "7b64ce79",
   "metadata": {},
   "outputs": [
    {
     "data": {
      "text/plain": [
       "27"
      ]
     },
     "execution_count": 9,
     "metadata": {},
     "output_type": "execute_result"
    }
   ],
   "source": [
    "len(laptop_df['Brand'].unique())"
   ]
  },
  {
   "cell_type": "markdown",
   "id": "9c637bb2",
   "metadata": {},
   "source": [
    "### Q4: Missing Values"
   ]
  },
  {
   "cell_type": "code",
   "execution_count": 52,
   "id": "b559b595",
   "metadata": {},
   "outputs": [],
   "source": [
    "### Taking into account that the dataframe has 2160 rows, I count manually how many columns\n",
    "### have a Non-Null Count lesser than 2160, in this case 3"
   ]
  },
  {
   "cell_type": "code",
   "execution_count": 13,
   "id": "04f66431",
   "metadata": {},
   "outputs": [
    {
     "name": "stdout",
     "output_type": "stream",
     "text": [
      "<class 'pandas.core.frame.DataFrame'>\n",
      "RangeIndex: 2160 entries, 0 to 2159\n",
      "Data columns (total 12 columns):\n",
      " #   Column        Non-Null Count  Dtype  \n",
      "---  ------        --------------  -----  \n",
      " 0   Laptop        2160 non-null   object \n",
      " 1   Status        2160 non-null   object \n",
      " 2   Brand         2160 non-null   object \n",
      " 3   Model         2160 non-null   object \n",
      " 4   CPU           2160 non-null   object \n",
      " 5   RAM           2160 non-null   int64  \n",
      " 6   Storage       2160 non-null   int64  \n",
      " 7   Storage type  2118 non-null   object \n",
      " 8   GPU           789 non-null    object \n",
      " 9   Screen        2156 non-null   float64\n",
      " 10  Touch         2160 non-null   object \n",
      " 11  Final Price   2160 non-null   float64\n",
      "dtypes: float64(2), int64(2), object(8)\n",
      "memory usage: 202.6+ KB\n"
     ]
    }
   ],
   "source": [
    "laptop_df.info()"
   ]
  },
  {
   "cell_type": "markdown",
   "id": "ce32292a",
   "metadata": {},
   "source": [
    "### Q5: Maximum final price"
   ]
  },
  {
   "cell_type": "code",
   "execution_count": 16,
   "id": "19fc03e8",
   "metadata": {},
   "outputs": [
    {
     "data": {
      "text/plain": [
       "3936.0"
      ]
     },
     "execution_count": 16,
     "metadata": {},
     "output_type": "execute_result"
    }
   ],
   "source": [
    "laptop_df[laptop_df['Brand']=='Dell']['Final Price'].max()"
   ]
  },
  {
   "cell_type": "markdown",
   "id": "57bcdf7e",
   "metadata": {},
   "source": [
    "### Q6 Median value of Screen"
   ]
  },
  {
   "cell_type": "markdown",
   "id": "b67398f0",
   "metadata": {},
   "source": [
    "#### 1. Find the median value of Screen column in the dataset."
   ]
  },
  {
   "cell_type": "code",
   "execution_count": 17,
   "id": "c5dcf91d",
   "metadata": {},
   "outputs": [
    {
     "data": {
      "text/plain": [
       "15.6"
      ]
     },
     "execution_count": 17,
     "metadata": {},
     "output_type": "execute_result"
    }
   ],
   "source": [
    "laptop_df['Screen'].median()"
   ]
  },
  {
   "cell_type": "markdown",
   "id": "4e32f704",
   "metadata": {},
   "source": [
    "#### 2. Next, calculate the most frequent value of the same Screen column."
   ]
  },
  {
   "cell_type": "code",
   "execution_count": 19,
   "id": "e31b93a8",
   "metadata": {},
   "outputs": [
    {
     "data": {
      "text/plain": [
       "15.6"
      ]
     },
     "execution_count": 19,
     "metadata": {},
     "output_type": "execute_result"
    }
   ],
   "source": [
    "laptop_df['Screen'].mode()[0]"
   ]
  },
  {
   "cell_type": "markdown",
   "id": "6a456400",
   "metadata": {},
   "source": [
    "#### 3. Use fillna method to fill the missing values in Screen column with the most frequent value from the previous step."
   ]
  },
  {
   "cell_type": "code",
   "execution_count": 20,
   "id": "d6438bea",
   "metadata": {},
   "outputs": [
    {
     "name": "stderr",
     "output_type": "stream",
     "text": [
      "C:\\Users\\jhons\\AppData\\Local\\Temp\\ipykernel_10364\\1892173296.py:1: FutureWarning: A value is trying to be set on a copy of a DataFrame or Series through chained assignment using an inplace method.\n",
      "The behavior will change in pandas 3.0. This inplace method will never work because the intermediate object on which we are setting values always behaves as a copy.\n",
      "\n",
      "For example, when doing 'df[col].method(value, inplace=True)', try using 'df.method({col: value}, inplace=True)' or df[col] = df[col].method(value) instead, to perform the operation inplace on the original object.\n",
      "\n",
      "\n",
      "  laptop_df['Screen'].fillna(laptop_df['Screen'].mode()[0], inplace=True)\n"
     ]
    }
   ],
   "source": [
    "laptop_df['Screen'].fillna(laptop_df['Screen'].mode()[0], inplace=True)"
   ]
  },
  {
   "cell_type": "code",
   "execution_count": null,
   "id": "1b4a9fd3",
   "metadata": {},
   "outputs": [],
   "source": [
    "laptop_df['Screen'].isna().sum()"
   ]
  },
  {
   "cell_type": "markdown",
   "id": "e8cfa54a",
   "metadata": {},
   "source": [
    "#### 4. Now, calculate the median value of Screen once again."
   ]
  },
  {
   "cell_type": "code",
   "execution_count": 54,
   "id": "0a13d67c",
   "metadata": {},
   "outputs": [],
   "source": [
    "### I realized that executing the instructions proposed in points 1, 2, 3\n",
    "### don't change the median value of Screen"
   ]
  },
  {
   "cell_type": "code",
   "execution_count": 21,
   "id": "5880aabe",
   "metadata": {},
   "outputs": [
    {
     "data": {
      "text/plain": [
       "15.6"
      ]
     },
     "execution_count": 21,
     "metadata": {},
     "output_type": "execute_result"
    }
   ],
   "source": [
    "laptop_df['Screen'].median()"
   ]
  },
  {
   "cell_type": "markdown",
   "id": "d6bb5c20",
   "metadata": {},
   "source": [
    "### Q7. Sum of weights"
   ]
  },
  {
   "cell_type": "markdown",
   "id": "7d27ba03",
   "metadata": {},
   "source": [
    "#### 1. Select all the \"Innjoo\" laptops from the dataset."
   ]
  },
  {
   "cell_type": "code",
   "execution_count": 23,
   "id": "58411dd7",
   "metadata": {},
   "outputs": [],
   "source": [
    "laptop_innjoo = laptop_df[laptop_df['Brand']=='Innjoo']"
   ]
  },
  {
   "cell_type": "markdown",
   "id": "92b19680",
   "metadata": {},
   "source": [
    "#### 2. Select only columns RAM, Storage, Screen."
   ]
  },
  {
   "cell_type": "code",
   "execution_count": 25,
   "id": "02d13e96",
   "metadata": {},
   "outputs": [],
   "source": [
    "laptop_innjoo = laptop_innjoo[[\"RAM\", \"Storage\", \"Screen\"]]"
   ]
  },
  {
   "cell_type": "markdown",
   "id": "d6ac9f20",
   "metadata": {},
   "source": [
    "#### 3. Get the underlying NumPy array. Let's call it X."
   ]
  },
  {
   "cell_type": "code",
   "execution_count": 26,
   "id": "bec25973",
   "metadata": {},
   "outputs": [],
   "source": [
    "X = laptop_innjoo.to_numpy()"
   ]
  },
  {
   "cell_type": "markdown",
   "id": "e4c7ca55",
   "metadata": {},
   "source": [
    "#### 4. Compute matrix-matrix multiplication between the transpose of X and X. To get the transpose, use X.T. Let's call the result XTX."
   ]
  },
  {
   "cell_type": "code",
   "execution_count": 34,
   "id": "43e1cc0d",
   "metadata": {},
   "outputs": [],
   "source": [
    "XTX = np.matmul(X.T,X) "
   ]
  },
  {
   "cell_type": "markdown",
   "id": "798700ff",
   "metadata": {},
   "source": [
    "#### 5. Compute the inverse of XTX"
   ]
  },
  {
   "cell_type": "code",
   "execution_count": 44,
   "id": "24539b4b",
   "metadata": {},
   "outputs": [],
   "source": [
    "XTX_inv = np.linalg.inv(XTX)"
   ]
  },
  {
   "cell_type": "markdown",
   "id": "8de778e6",
   "metadata": {},
   "source": [
    "#### 6. Create an array y with values [1100, 1300, 800, 900, 1000, 1100]."
   ]
  },
  {
   "cell_type": "code",
   "execution_count": 46,
   "id": "21b638fb",
   "metadata": {},
   "outputs": [],
   "source": [
    "y = np.array([1100, 1300, 800, 900, 1000, 1100])"
   ]
  },
  {
   "cell_type": "markdown",
   "id": "92353749",
   "metadata": {},
   "source": [
    "#### 7.Multiply the inverse of XTX with the transpose of X, and then multiply the result by y. Call the result w."
   ]
  },
  {
   "cell_type": "code",
   "execution_count": 47,
   "id": "583c8a18",
   "metadata": {},
   "outputs": [],
   "source": [
    "w = np.matmul(XTX_inv, X.T)\n",
    "w = np.matmul(w,y)"
   ]
  },
  {
   "cell_type": "markdown",
   "id": "dfa15870",
   "metadata": {},
   "source": [
    "#### 8. What's the sum of all the elements of the result?"
   ]
  },
  {
   "cell_type": "code",
   "execution_count": 50,
   "id": "45ebe6ac",
   "metadata": {},
   "outputs": [
    {
     "data": {
      "text/plain": [
       "91.29988062995588"
      ]
     },
     "execution_count": 50,
     "metadata": {},
     "output_type": "execute_result"
    }
   ],
   "source": [
    "w.sum()"
   ]
  }
 ],
 "metadata": {
  "kernelspec": {
   "display_name": "ml-zoomcamp",
   "language": "python",
   "name": "ml-zoomcamp"
  },
  "language_info": {
   "codemirror_mode": {
    "name": "ipython",
    "version": 3
   },
   "file_extension": ".py",
   "mimetype": "text/x-python",
   "name": "python",
   "nbconvert_exporter": "python",
   "pygments_lexer": "ipython3",
   "version": "3.11.9"
  }
 },
 "nbformat": 4,
 "nbformat_minor": 5
}
